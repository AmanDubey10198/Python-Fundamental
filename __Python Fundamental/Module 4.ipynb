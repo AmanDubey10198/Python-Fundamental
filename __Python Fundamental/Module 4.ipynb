{
 "cells": [
  {
   "cell_type": "markdown",
   "metadata": {},
   "source": [
    "# Nested Conditionals"
   ]
  },
  {
   "cell_type": "code",
   "execution_count": 1,
   "metadata": {},
   "outputs": [
    {
     "name": "stdout",
     "output_type": "stream",
     "text": [
      "Say Hello (y/n):y\n",
      "Hi\n",
      "Hi\n"
     ]
    }
   ],
   "source": [
    "if input(\"Say Hello (y/n):\").lower() == \"y\":\n",
    "    if input().lower() == \"Hello\".lower():\n",
    "        print('Hello')\n",
    "    else:\n",
    "        print('Hi')\n",
    "else:\n",
    "    print('friendly nod')"
   ]
  },
  {
   "cell_type": "code",
   "execution_count": 2,
   "metadata": {},
   "outputs": [
    {
     "name": "stdout",
     "output_type": "stream",
     "text": [
      "1.Guess bird name:crow\n",
      "2.Guess bird name:PEGIUN\n",
      "Yes 2nd try\n"
     ]
    }
   ],
   "source": [
    "bird_games = \"sparrow pegiun peacock\"\n",
    "if input(\"1.Guess bird name:\").lower() not in bird_games:\n",
    "    if input(\"2.Guess bird name:\").lower() not in bird_games:\n",
    "        if input(\"3.Guess bird name:\").lower() not in bird_games:\n",
    "            print(\"Sorry out of tries\")\n",
    "        else:\n",
    "            print(\"Yes 3rd try\")\n",
    "    else:\n",
    "        print(\"Yes 2nd try\")\n",
    "else:\n",
    "    print(\"Yes 1st try\")"
   ]
  },
  {
   "cell_type": "markdown",
   "metadata": {},
   "source": [
    "# ESCAPE SEQUENCE"
   ]
  },
  {
   "cell_type": "markdown",
   "metadata": {},
   "source": [
    "## \\\\, \\', \\\",  \\t, \\n"
   ]
  },
  {
   "cell_type": "code",
   "execution_count": 3,
   "metadata": {},
   "outputs": [
    {
     "name": "stdout",
     "output_type": "stream",
     "text": [
      "\\\\WARNING///\n"
     ]
    }
   ],
   "source": [
    "print(\"\\\\\\WARNING///\")"
   ]
  },
  {
   "cell_type": "code",
   "execution_count": 4,
   "metadata": {},
   "outputs": [
    {
     "name": "stdout",
     "output_type": "stream",
     "text": [
      "\"What's that?\"\n"
     ]
    }
   ],
   "source": [
    "print(\"\\\"What\\'s that?\\\"\")"
   ]
  },
  {
   "cell_type": "code",
   "execution_count": 5,
   "metadata": {},
   "outputs": [
    {
     "name": "stdout",
     "output_type": "stream",
     "text": [
      "One\tTwo\tThree\n",
      "Four\tFive\tSix\n"
     ]
    }
   ],
   "source": [
    "print(\"One\\tTwo\\tThree\\nFour\\tFive\\tSix\")"
   ]
  },
  {
   "cell_type": "code",
   "execution_count": 6,
   "metadata": {},
   "outputs": [
    {
     "name": "stdout",
     "output_type": "stream",
     "text": [
      "Enter a word that starts with \"pre\":preposition\n",
      "a \"pre\"word\n"
     ]
    }
   ],
   "source": [
    "def pre_word(s):\n",
    "    if s.startswith('pre'):\n",
    "        if s.isalpha():\n",
    "            return True\n",
    "        else:\n",
    "            return False\n",
    "    else:\n",
    "        return False\n",
    "word = input(\"Enter a word that starts with \\\"pre\\\":\")\n",
    "if not pre_word(word):\n",
    "    print(\"Not a \\\"pre\\\"word\")\n",
    "else:\n",
    "    print(\"a \\\"pre\\\"word\")"
   ]
  },
  {
   "cell_type": "markdown",
   "metadata": {},
   "source": [
    "# 'while' loop and incrementing"
   ]
  },
  {
   "cell_type": "code",
   "execution_count": 7,
   "metadata": {},
   "outputs": [
    {
     "name": "stdout",
     "output_type": "stream",
     "text": [
      "Enter Familiar Name:ashu\n",
      "Enter Familiar Name:aman\n",
      "Enter Familiar Name:\n",
      "Have a nice day\t  ashu aman \n"
     ]
    }
   ],
   "source": [
    "familiar_name = \"\"\n",
    "while True:\n",
    "    x = input('Enter Familiar Name:')\n",
    "    familiar_name = familiar_name +' ' + x\n",
    "    if x == '':\n",
    "        print(\"Have a nice day\\t\",familiar_name)\n",
    "        break"
   ]
  },
  {
   "cell_type": "code",
   "execution_count": 8,
   "metadata": {},
   "outputs": [
    {
     "name": "stdout",
     "output_type": "stream",
     "text": [
      "S:Small, M:Medium, L:Large, e:exit\n",
      "Enter the size of shirt:m\n",
      "Enter the size of shirt:l\n",
      "Enter the size of shirt:s\n",
      "Enter the size of shirt:m\n",
      "Enter the size of shirt:k\n",
      "Enter the size of shirt:exit\n",
      "Report of purchase:\n",
      "Bucket List\tQuantity\tCost\n",
      "Small size shirts:\t 1 \t 6\n",
      "Medium size shirts:\t 2 \t 14\n",
      "Large size shirts:\t 1 \t 8\n",
      "Total Cost\t\t\t 28\n"
     ]
    }
   ],
   "source": [
    "count = 0\n",
    "S = 0\n",
    "M = 0\n",
    "L = 0\n",
    "print(\"S:Small, M:Medium, L:Large, e:exit\")\n",
    "while True:\n",
    "    x = input(\"Enter the size of shirt:\")\n",
    "    if x.lower() == 's':\n",
    "        S +=1\n",
    "    elif x.lower() == 'm':\n",
    "        M += 1\n",
    "    elif x.lower() == 'l':\n",
    "        L += 1\n",
    "    elif x.lower().startswith('e'):\n",
    "        break\n",
    "print(\"Report of purchase:\")\n",
    "print(\"Bucket List\\tQuantity\\tCost\")\n",
    "print(\"Small size shirts:\\t\", S,\"\\t\",S * 6)\n",
    "print(\"Medium size shirts:\\t\", M,\"\\t\", M * 7)\n",
    "print(\"Large size shirts:\\t\", L,\"\\t\",L * 8)\n",
    "print(\"Total Cost\\t\\t\\t\",S * 6 + M * 7 + L * 8)"
   ]
  },
  {
   "cell_type": "code",
   "execution_count": 9,
   "metadata": {},
   "outputs": [
    {
     "name": "stdout",
     "output_type": "stream",
     "text": [
      "run forever\n",
      "run forever\n",
      "run forever\n",
      "run forever\n",
      "run forever\n",
      "run forever\n",
      "run forever\n",
      "run forever\n",
      "run forever\n",
      "run forever\n"
     ]
    }
   ],
   "source": [
    " x = 0 \n",
    "\n",
    "while True:\n",
    "    if x < 10:\n",
    "        print('run forever')\n",
    "        x += 1\n",
    "    else:\n",
    "        break\n",
    "        "
   ]
  },
  {
   "cell_type": "markdown",
   "metadata": {},
   "source": [
    "# while loop with Boolean Comparisons"
   ]
  },
  {
   "cell_type": "code",
   "execution_count": 11,
   "metadata": {},
   "outputs": [
    {
     "name": "stdout",
     "output_type": "stream",
     "text": [
      "Enter the animal name:dog\n",
      "Enter the animal name:cat\n",
      "Enter the animal name:lion\n",
      "Enter the animal name:\n",
      "no animals\n",
      " dog cat lion\n"
     ]
    }
   ],
   "source": [
    "\n",
    "animal_name = \"\"\n",
    "num_animals = 0\n",
    "while True:\n",
    "    animal = input(\"Enter the animal name:\")\n",
    "    if animal == '':\n",
    "        print(\"no animals\")\n",
    "        break\n",
    "    else:\n",
    "        animal_name = animal_name +\" \" + animal\n",
    "        num_animals += 1\n",
    "print(animal_name)"
   ]
  },
  {
   "cell_type": "code",
   "execution_count": 13,
   "metadata": {},
   "outputs": [
    {
     "name": "stdout",
     "output_type": "stream",
     "text": [
      "Only digit (positive)5\n",
      "Only digit (positive)6\n",
      "Only digit (positive)7\n",
      "Only digit (positive)-6\n",
      "5 6 7 \n"
     ]
    }
   ],
   "source": [
    "int_num = input(\"Only digit (positive)\")\n",
    "long_num = \"\"\n",
    "while int_num.isdigit() == True:\n",
    "    long_num += int_num  + \" \" \n",
    "    int_num = input(\"Only digit (positive)\")\n",
    "print(long_num)"
   ]
  },
  {
   "cell_type": "code",
   "execution_count": 14,
   "metadata": {},
   "outputs": [],
   "source": [
    "# [ ] review the code, run, fix the Logic error\n",
    "count = 1\n",
    "\n",
    "# loop 5 times\n",
    "while count > 6:\n",
    "    print(count, \"x\", count, \"=\", count*count)\n",
    "    count +=1"
   ]
  },
  {
   "cell_type": "code",
   "execution_count": 15,
   "metadata": {},
   "outputs": [
    {
     "name": "stdout",
     "output_type": "stream",
     "text": [
      "1 x 1 = 1\n",
      "2 x 2 = 4\n",
      "3 x 3 = 9\n",
      "4 x 4 = 16\n",
      "5 x 5 = 25\n"
     ]
    }
   ],
   "source": [
    "# [ ] review the code, run, fix the Logic error\n",
    "count = 1\n",
    "\n",
    "# loop 5 times\n",
    "while count < 6:\n",
    "    print(count, \"x\", count, \"=\", count*count)\n",
    "    count +=1"
   ]
  },
  {
   "cell_type": "markdown",
   "metadata": {},
   "source": [
    "# PRACTICE"
   ]
  },
  {
   "cell_type": "code",
   "execution_count": 16,
   "metadata": {},
   "outputs": [
    {
     "name": "stdout",
     "output_type": "stream",
     "text": [
      "The new line character is \"\\n\"\n"
     ]
    }
   ],
   "source": [
    "print(\"The new line character is \\\"\\\\n\\\"\") "
   ]
  },
  {
   "cell_type": "code",
   "execution_count": 17,
   "metadata": {},
   "outputs": [
    {
     "name": "stdout",
     "output_type": "stream",
     "text": [
      "\"That's how we escape!\"\n"
     ]
    }
   ],
   "source": [
    "print(\"\\\"That\\'s how we escape!\\\"\")"
   ]
  },
  {
   "cell_type": "code",
   "execution_count": 18,
   "metadata": {},
   "outputs": [
    {
     "name": "stdout",
     "output_type": "stream",
     "text": [
      "#1\tone\n",
      "#22\ttwo\n",
      "#333\tthree\n"
     ]
    }
   ],
   "source": [
    "print(\"#1\\tone\\n#22\\ttwo\\n#333\\tthree\")"
   ]
  },
  {
   "cell_type": "code",
   "execution_count": 19,
   "metadata": {},
   "outputs": [
    {
     "name": "stdout",
     "output_type": "stream",
     "text": [
      "Enter a string:Hi there\n",
      "\"Hi there\"\n"
     ]
    }
   ],
   "source": [
    "def quote_me(str1):\n",
    "    return \"\\\"\" + str1 + \"\\\"\"\n",
    "str2 = input(\"Enter a string:\")\n",
    "print(quote_me(str2))"
   ]
  },
  {
   "cell_type": "code",
   "execution_count": 6,
   "metadata": {},
   "outputs": [
    {
     "name": "stdout",
     "output_type": "stream",
     "text": [
      "shirt color:blue\n",
      "shirt size:m\n",
      "blue  of size  m  is available.\n"
     ]
    }
   ],
   "source": [
    "available = False\n",
    "shirt_color = input(\"shirt color:\").lower()\n",
    "shirt_size = input(\"shirt size:\").lower()\n",
    "\n",
    "if shirt_color == \"blue\":\n",
    "    if shirt_size == 'm' or shirt_size == 's':\n",
    "        available = True\n",
    "elif shirt_color == \"white\":\n",
    "    if shirt_size == 'm' or shirt_size == 'l':\n",
    "        available = True\n",
    "else:\n",
    "        available = False\n",
    "        \n",
    "if available:\n",
    "    print(shirt_color, \" of size \",shirt_size,\" is available.\")\n",
    "else:\n",
    "    \n",
    "    print(shirt_color, \" of size \",shirt_size,\" is not available.\")"
   ]
  },
  {
   "cell_type": "code",
   "execution_count": 5,
   "metadata": {},
   "outputs": [
    {
     "name": "stdout",
     "output_type": "stream",
     "text": [
      "Enter input:67\n",
      "small number\n"
     ]
    }
   ],
   "source": [
    "def str_analysis(str1):\n",
    "    if str1.isdigit():\n",
    "        if int(str1) > 99:\n",
    "            print(\"big number\")\n",
    "        else:\n",
    "            print(\"small number\")\n",
    "    elif str1.isalpha():\n",
    "        print(str1)\n",
    "    else:\n",
    "        print(\"Neither all alpha nor all digit\")\n",
    "str_analysis(input(\"Enter input:\"))"
   ]
  },
  {
   "cell_type": "code",
   "execution_count": 4,
   "metadata": {},
   "outputs": [
    {
     "name": "stdout",
     "output_type": "stream",
     "text": [
      "Enter section:GENERAL\n",
      "Enter seat number:7\n",
      "Correct Entry\n"
     ]
    }
   ],
   "source": [
    "def ticket_check(section, seats):\n",
    "    if section.startswith('g'):\n",
    "        if seats >= 1 and seats <= 10:\n",
    "            return True\n",
    "    elif section.startswith('f'):\n",
    "        if seats >= 1 and seats <= 4:\n",
    "            return True\n",
    "    else:\n",
    "        return False\n",
    "sec = input(\"Enter section:\").lower()\n",
    "st = int(input(\"Enter seat number:\"))\n",
    "if ticket_check(sec,st):\n",
    "    print(\"Correct Entry\")\n",
    "else:\n",
    "    print(\"Wrong Entry\")"
   ]
  },
  {
   "cell_type": "code",
   "execution_count": 3,
   "metadata": {},
   "outputs": [
    {
     "name": "stdout",
     "output_type": "stream",
     "text": [
      "enter digit for sum:2\n",
      "enter digit for sum:3\n",
      "enter digit for sum:5\n",
      "enter digit for sum:2\n",
      "enter digit for sum:4\n",
      "enter digit for sum:\n",
      "16\n"
     ]
    }
   ],
   "source": [
    "int_num = input(\"enter digit for sum:\")\n",
    "sum = 0\n",
    "while int_num.isdigit():\n",
    "    sum = sum + int(int_num)\n",
    "    int_num = input(\"enter digit for sum:\")\n",
    "print(sum)"
   ]
  },
  {
   "cell_type": "code",
   "execution_count": 2,
   "metadata": {},
   "outputs": [
    {
     "name": "stdout",
     "output_type": "stream",
     "text": [
      "Enter color:pink\n",
      "Enter color:brown\n",
      "Enter color:black\n",
      "Enter color:red\n",
      "[ 4 ] Guess\n"
     ]
    }
   ],
   "source": [
    "rainbow = \"red orange yellow green blue indigo violet\"\n",
    "chance = 0\n",
    "while chance < 4:\n",
    "    chance += 1\n",
    "    if input(\"Enter color:\").lower() in rainbow:\n",
    "        print(\"[\",chance,\"] Guess\")\n",
    "        break;\n",
    "if chance != 4:\n",
    "    print(\"NO chances left\")"
   ]
  },
  {
   "cell_type": "code",
   "execution_count": 9,
   "metadata": {},
   "outputs": [
    {
     "name": "stdout",
     "output_type": "stream",
     "text": [
      "Enter book title:the jungle book\n",
      "Enter book title:The Jungle Book\n",
      "Enter book title:THE JUNGLE BOOK\n",
      "THE JUNGLE BOOK\n"
     ]
    }
   ],
   "source": [
    "title = input(\"Enter book title:\")\n",
    "while title.isupper() != True:\n",
    "    title = input(\"Enter book title:\")\n",
    "print(title)"
   ]
  },
  {
   "cell_type": "code",
   "execution_count": 13,
   "metadata": {},
   "outputs": [
    {
     "name": "stdout",
     "output_type": "stream",
     "text": [
      "3 + 4 =5\n",
      "Wrong answer\n",
      "3 + 4 =-2\n",
      "Wrong answer\n",
      "3 + 4 =8\n",
      "Wrong answer\n",
      "3 + 4 =7\n",
      "Correct answer\n"
     ]
    }
   ],
   "source": [
    "answer = input('3 + 4 =')\n",
    "while answer != '7':\n",
    "    print(\"Wrong answer\")    \n",
    "    answer = input('3 + 4 =')\n",
    "print(\"Correct answer\")"
   ]
  },
  {
   "cell_type": "code",
   "execution_count": 14,
   "metadata": {},
   "outputs": [
    {
     "name": "stdout",
     "output_type": "stream",
     "text": [
      "enter tickets remaining (0 to quit): 5\n"
     ]
    },
    {
     "ename": "TypeError",
     "evalue": "'>' not supported between instances of 'str' and 'int'",
     "output_type": "error",
     "traceback": [
      "\u001b[1;31m---------------------------------------------------------------------------\u001b[0m",
      "\u001b[1;31mTypeError\u001b[0m                                 Traceback (most recent call last)",
      "\u001b[1;32m<ipython-input-14-9de0b58a63a0>\u001b[0m in \u001b[0;36m<module>\u001b[1;34m()\u001b[0m\n\u001b[0;32m      2\u001b[0m \u001b[0mtickets\u001b[0m \u001b[1;33m=\u001b[0m \u001b[0minput\u001b[0m\u001b[1;33m(\u001b[0m\u001b[1;34m\"enter tickets remaining (0 to quit): \"\u001b[0m\u001b[1;33m)\u001b[0m\u001b[1;33m\u001b[0m\u001b[0m\n\u001b[0;32m      3\u001b[0m \u001b[1;33m\u001b[0m\u001b[0m\n\u001b[1;32m----> 4\u001b[1;33m \u001b[1;32mwhile\u001b[0m \u001b[0mtickets\u001b[0m \u001b[1;33m>\u001b[0m \u001b[1;36m0\u001b[0m\u001b[1;33m:\u001b[0m\u001b[1;33m\u001b[0m\u001b[0m\n\u001b[0m\u001b[0;32m      5\u001b[0m         \u001b[1;31m# if tickets are multiple of 3 then \"winner\"\u001b[0m\u001b[1;33m\u001b[0m\u001b[1;33m\u001b[0m\u001b[0m\n\u001b[0;32m      6\u001b[0m     \u001b[1;32mif\u001b[0m \u001b[0mint\u001b[0m\u001b[1;33m(\u001b[0m\u001b[0mtickets\u001b[0m\u001b[1;33m/\u001b[0m\u001b[1;36m3\u001b[0m\u001b[1;33m)\u001b[0m \u001b[1;33m==\u001b[0m \u001b[0mtickets\u001b[0m\u001b[1;33m/\u001b[0m\u001b[1;36m3\u001b[0m\u001b[1;33m:\u001b[0m\u001b[1;33m\u001b[0m\u001b[0m\n",
      "\u001b[1;31mTypeError\u001b[0m: '>' not supported between instances of 'str' and 'int'"
     ]
    }
   ],
   "source": [
    "# [ ] review the code, run, fix the error\n",
    "tickets = input(\"enter tickets remaining (0 to quit): \")\n",
    "\n",
    "while tickets > 0:\n",
    "        # if tickets are multiple of 3 then \"winner\"\n",
    "    if int(tickets/3) == tickets/3:\n",
    "        print(\"you win!\")\n",
    "    else:\n",
    "        print(\"sorry, not a winner.\")\n",
    "    tickets = int(input(\"enter tickets remaining (0 to quit): \"))\n",
    "\n",
    "print(\"Game ended\")"
   ]
  },
  {
   "cell_type": "code",
   "execution_count": 17,
   "metadata": {},
   "outputs": [
    {
     "name": "stdout",
     "output_type": "stream",
     "text": [
      "enter tickets remaining (0 to quit): 34\n",
      "sorry, not a winner.\n",
      "enter tickets remaining (0 to quit): 33\n",
      "you win!\n",
      "enter tickets remaining (0 to quit): 0\n",
      "Game ended\n"
     ]
    }
   ],
   "source": [
    "# [ ] review the code, run, fix the error\n",
    "tickets = int(input(\"enter tickets remaining (0 to quit): \"))\n",
    "\n",
    "while tickets > 0:\n",
    "        # if tickets are multiple of 3 then \"winner\"\n",
    "    if int(tickets)%3 == 0:\n",
    "        print(\"you win!\")\n",
    "    else:\n",
    "        print(\"sorry, not a winner.\")\n",
    "    tickets = int(input(\"enter tickets remaining (0 to quit): \"))\n",
    "\n",
    "print(\"Game ended\")"
   ]
  },
  {
   "cell_type": "code",
   "execution_count": 25,
   "metadata": {},
   "outputs": [
    {
     "name": "stdout",
     "output_type": "stream",
     "text": [
      "Is 3 greater than 5?t\n",
      "Is 3 greater than 5?T\n",
      "Is 3 greater than 5?True\n",
      "Is 3 greater than 5?true\n",
      "Is 3 greater than 5?FAlse\n",
      "right answer\n"
     ]
    }
   ],
   "source": [
    "def quiz_item(ques, sol):\n",
    "    while sol.lower().startswith('t'):\n",
    "        sol = input(ques)\n",
    "    return True\n",
    "question = \"Is 3 greater than 5?\"\n",
    "if quiz_item(question,input(question)):\n",
    "    print(\"right answer\")"
   ]
  },
  {
   "cell_type": "code",
   "execution_count": 27,
   "metadata": {},
   "outputs": [
    {
     "name": "stdout",
     "output_type": "stream",
     "text": [
      "Enter word or integer:\n",
      "Enter word or integer:\n",
      "Enter word or integer:\n",
      "Enter word or integer:Hello\n",
      "Hello  is all alphabet character\n"
     ]
    }
   ],
   "source": [
    "def str_analysis(str1):\n",
    "    if str1.isdigit():\n",
    "        if int(str1) > 99:\n",
    "            print(str1,\" is a pretty big number\")\n",
    "        else:\n",
    "            print(str1,\" is smaller number than expected\")\n",
    "    elif str1.isalpha():\n",
    "        print(\"\\\"str1,\" is all alphabet character\")\n",
    "    else:\n",
    "        print(str1,\" is multiple character digit\")\n",
    "str_num = input(\"Enter word or integer:\")\n",
    "while str_num == \"\":\n",
    "    str_num = input(\"Enter word or integer:\")\n",
    "str_analysis(str_num)"
   ]
  },
  {
   "cell_type": "code",
   "execution_count": null,
   "metadata": {},
   "outputs": [],
   "source": []
  }
 ],
 "metadata": {
  "kernelspec": {
   "display_name": "Python 3",
   "language": "python",
   "name": "python3"
  },
  "language_info": {
   "codemirror_mode": {
    "name": "ipython",
    "version": 3
   },
   "file_extension": ".py",
   "mimetype": "text/x-python",
   "name": "python",
   "nbconvert_exporter": "python",
   "pygments_lexer": "ipython3",
   "version": "3.6.4"
  }
 },
 "nbformat": 4,
 "nbformat_minor": 2
}
