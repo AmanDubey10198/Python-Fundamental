{
 "cells": [
  {
   "cell_type": "markdown",
   "metadata": {},
   "source": [
    "# Simple Functions"
   ]
  },
  {
   "cell_type": "markdown",
   "metadata": {},
   "source": [
    "## Call functions with Arguments"
   ]
  },
  {
   "cell_type": "markdown",
   "metadata": {},
   "source": [
    "### passing argument to print()"
   ]
  },
  {
   "cell_type": "code",
   "execution_count": 1,
   "metadata": {},
   "outputs": [
    {
     "name": "stdout",
     "output_type": "stream",
     "text": [
      "aman Dubey will be in the class for  20  year old students.\n"
     ]
    }
   ],
   "source": [
    "student_age = 20\n",
    "student_name = \"aman Dubey\"\n",
    "print(student_name, 'will be in the class for ', student_age, ' year old students.')"
   ]
  },
  {
   "cell_type": "code",
   "execution_count": 2,
   "metadata": {},
   "outputs": [],
   "source": [
    "my_type = type(student_age)"
   ]
  },
  {
   "cell_type": "code",
   "execution_count": 4,
   "metadata": {},
   "outputs": [
    {
     "name": "stdout",
     "output_type": "stream",
     "text": [
      "<class 'int'>\n"
     ]
    }
   ],
   "source": [
    "print(my_type)"
   ]
  },
  {
   "cell_type": "markdown",
   "metadata": {},
   "source": [
    "# Simple functions"
   ]
  },
  {
   "cell_type": "code",
   "execution_count": 5,
   "metadata": {},
   "outputs": [],
   "source": [
    " def say_hi():\n",
    "        print(\"Hello there!\")\n",
    "        print(\"goodbye\")"
   ]
  },
  {
   "cell_type": "code",
   "execution_count": 6,
   "metadata": {},
   "outputs": [
    {
     "name": "stdout",
     "output_type": "stream",
     "text": [
      "Hello there!\n",
      "goodbye\n"
     ]
    }
   ],
   "source": [
    "say_hi()"
   ]
  },
  {
   "cell_type": "code",
   "execution_count": 7,
   "metadata": {},
   "outputs": [],
   "source": [
    "def yell_it():\n",
    "    yell_it = 'Hi there'\n",
    "    print(yell_it.upper() + \"!\")"
   ]
  },
  {
   "cell_type": "code",
   "execution_count": 8,
   "metadata": {},
   "outputs": [
    {
     "name": "stdout",
     "output_type": "stream",
     "text": [
      "HI THERE!\n"
     ]
    }
   ],
   "source": [
    "yell_it()"
   ]
  },
  {
   "cell_type": "markdown",
   "metadata": {},
   "source": [
    "## Function parameter"
   ]
  },
  {
   "cell_type": "code",
   "execution_count": 13,
   "metadata": {},
   "outputs": [
    {
     "name": "stdout",
     "output_type": "stream",
     "text": [
      "enter words to yell:hello brother\n",
      "HELLO BROTHER\n",
      "NOTHING IS GIVEN AS INPUT\n"
     ]
    }
   ],
   "source": [
    "def yell_this(words_to_yell = \"Nothing is given as input\"):\n",
    "    print(words_to_yell.upper())\n",
    "\n",
    "words_to_yell = input(\"enter words to yell:\")\n",
    "yell_this(words_to_yell)\n",
    "yell_this()"
   ]
  },
  {
   "cell_type": "markdown",
   "metadata": {},
   "source": [
    "## Function returns and multi-parameters"
   ]
  },
  {
   "cell_type": "code",
   "execution_count": 16,
   "metadata": {},
   "outputs": [
    {
     "name": "stdout",
     "output_type": "stream",
     "text": [
      "enter doctors name:Mashoor Gulati\n",
      "Doctor Mashoor Gulati\n"
     ]
    }
   ],
   "source": [
    "def make_doctor(name):\n",
    "    return \"Doctor \" + name\n",
    "full_name = input(\"enter doctors name:\")\n",
    "print(make_doctor(full_name))"
   ]
  },
  {
   "cell_type": "code",
   "execution_count": 27,
   "metadata": {},
   "outputs": [],
   "source": [
    "def make_schedule(period1, period2, period3, period4,period5,period6):\n",
    "   schedule = (\"[1st] \" + period1.title() + \"\\n[2nd] \" + period2.title() +\"\\n[3rd] \" + period3.title() +\"\\n[4th] \" + period4.title() +\"\\n[5th] \" + period5.title() +\"\\n[6th] \" + period6.title())\n",
    "   return schedule\n"
   ]
  },
  {
   "cell_type": "code",
   "execution_count": 28,
   "metadata": {},
   "outputs": [],
   "source": [
    "student_schedule = make_schedule(\"Mathematics\", \"Chemistry\", \"English\", \"Social Science\", \"Physics\", \"Biology\")"
   ]
  },
  {
   "cell_type": "code",
   "execution_count": 29,
   "metadata": {},
   "outputs": [
    {
     "name": "stdout",
     "output_type": "stream",
     "text": [
      "[1st] Mathematics\n",
      "[2nd] Chemistry\n",
      "[3rd] English\n",
      "[4th] Social Science\n",
      "[5th] Physics\n",
      "[6th] Biology\n"
     ]
    }
   ],
   "source": [
    "print(student_schedule)"
   ]
  },
  {
   "cell_type": "code",
   "execution_count": 30,
   "metadata": {},
   "outputs": [
    {
     "name": "stdout",
     "output_type": "stream",
     "text": [
      "110\n"
     ]
    }
   ],
   "source": [
    "def add_numbers(num_1, num_2 = 10):\n",
    "    return num_1 + num_2\n",
    "print(add_numbers(100))"
   ]
  },
  {
   "cell_type": "markdown",
   "metadata": {},
   "source": [
    "# Sequence"
   ]
  },
  {
   "cell_type": "code",
   "execution_count": 31,
   "metadata": {},
   "outputs": [
    {
     "name": "stdout",
     "output_type": "stream",
     "text": [
      "enter how many you want: 23\n",
      "23 will be ordered\n"
     ]
    }
   ],
   "source": [
    "def how_many():\n",
    "    requested = input(\"enter how many you want: \")\n",
    "    return requested\n",
    "\n",
    "# get the number_needed\n",
    "number_needed = how_many()\n",
    "print(number_needed, \"will be ordered\")\n"
   ]
  },
  {
   "cell_type": "markdown",
   "metadata": {},
   "source": [
    "# PRACTICE"
   ]
  },
  {
   "cell_type": "code",
   "execution_count": 32,
   "metadata": {},
   "outputs": [
    {
     "name": "stdout",
     "output_type": "stream",
     "text": [
      "She sell sea shell\n",
      "on the sea shore\n"
     ]
    }
   ],
   "source": [
    "def  short_rhyme():\n",
    "    print(\"She sell sea shell\\non the sea shore\")\n",
    "short_rhyme()"
   ]
  },
  {
   "cell_type": "code",
   "execution_count": 33,
   "metadata": {},
   "outputs": [],
   "source": [
    "def title_it(msg):\n",
    "    print(msg.title())"
   ]
  },
  {
   "cell_type": "code",
   "execution_count": 37,
   "metadata": {},
   "outputs": [
    {
     "name": "stdout",
     "output_type": "stream",
     "text": [
      "Never Stop\n"
     ]
    }
   ],
   "source": [
    "title_it(\"never stop\")"
   ]
  },
  {
   "cell_type": "code",
   "execution_count": 39,
   "metadata": {},
   "outputs": [
    {
     "name": "stdout",
     "output_type": "stream",
     "text": [
      "enter input:what is the title?\n"
     ]
    }
   ],
   "source": [
    "format_input = input(\"enter input:\")"
   ]
  },
  {
   "cell_type": "code",
   "execution_count": 40,
   "metadata": {},
   "outputs": [
    {
     "name": "stdout",
     "output_type": "stream",
     "text": [
      "What Is The Title?\n"
     ]
    }
   ],
   "source": [
    "title_it(format_input)"
   ]
  },
  {
   "cell_type": "code",
   "execution_count": 41,
   "metadata": {},
   "outputs": [
    {
     "name": "stdout",
     "output_type": "stream",
     "text": [
      "Enter input to make to title:what is the title ?\n",
      "What Is The Title ?\n"
     ]
    }
   ],
   "source": [
    "def title_it_rtn(msg):\n",
    "    return msg.title()\n",
    "result = title_it_rtn(input(\"Enter input to make to title:\"))\n",
    "print(result)"
   ]
  },
  {
   "cell_type": "markdown",
   "metadata": {},
   "source": [
    "### PROGRAM: BOOKSTORE"
   ]
  },
  {
   "cell_type": "code",
   "execution_count": 45,
   "metadata": {},
   "outputs": [
    {
     "name": "stdout",
     "output_type": "stream",
     "text": [
      "enter the book name:the adventure of sherlock holmes\n",
      "enter book price:$12.99\n",
      "Title:The Adventure Of Sherlock Holmes, costs$12.99\n"
     ]
    }
   ],
   "source": [
    "def bookstore(book, price):\n",
    "    return \"Title:\" + title_it_rtn(book) + \", costs\" + price\n",
    "book_entry = input(\"enter the book name:\")\n",
    "price_entry= input(\"enter book price:\")\n",
    "print(bookstore(book_entry, price_entry))"
   ]
  },
  {
   "cell_type": "code",
   "execution_count": 46,
   "metadata": {},
   "outputs": [
    {
     "name": "stdout",
     "output_type": "stream",
     "text": [
      "enter a name: Aman Dubey\n",
      "enter a greeting: good luck\n",
      "good luck Aman Dubey!\n"
     ]
    }
   ],
   "source": [
    "def make_greeting(name, greeting = \"Hello\"):\n",
    "    return (greeting + \" \" + name + \"!\")\n",
    "def get_name():\n",
    "    name_entry = input(\"enter a name: \")\n",
    "    return name_entry\n",
    "\n",
    "def get_greeting():\n",
    "    greeting_entry = input(\"enter a greeting: \")\n",
    "    return greeting_entry\n",
    "# get name and greeting, send to make_greeting \n",
    "print(make_greeting(get_name(), get_greeting()))\n"
   ]
  },
  {
   "cell_type": "markdown",
   "metadata": {},
   "source": [
    "### PROGRAM: fishstore"
   ]
  },
  {
   "cell_type": "code",
   "execution_count": 48,
   "metadata": {},
   "outputs": [
    {
     "name": "stdout",
     "output_type": "stream",
     "text": [
      "enter the fish name:Guppy\n",
      "enter the cost:$1\n",
      "Fish Type:Guppy costs $1\n"
     ]
    }
   ],
   "source": [
    "def fishstore(fish, price):\n",
    "    return \"Fish Type:\" + fish + \" costs \" + price\n",
    "fish_entry = input(\"enter the fish name:\")\n",
    "price_entry = input(\"enter the cost:\")\n",
    "print(fishstore(fish_entry, price_entry))"
   ]
  },
  {
   "cell_type": "code",
   "execution_count": null,
   "metadata": {},
   "outputs": [],
   "source": []
  }
 ],
 "metadata": {
  "kernelspec": {
   "display_name": "Python 3",
   "language": "python",
   "name": "python3"
  },
  "language_info": {
   "codemirror_mode": {
    "name": "ipython",
    "version": 3
   },
   "file_extension": ".py",
   "mimetype": "text/x-python",
   "name": "python",
   "nbconvert_exporter": "python",
   "pygments_lexer": "ipython3",
   "version": "3.6.4"
  }
 },
 "nbformat": 4,
 "nbformat_minor": 2
}
