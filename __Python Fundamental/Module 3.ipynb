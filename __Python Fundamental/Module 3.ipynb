{
 "cells": [
  {
   "cell_type": "markdown",
   "metadata": {},
   "source": [
    "# Conditionals: Boolean Strings"
   ]
  },
  {
   "cell_type": "markdown",
   "metadata": {},
   "source": [
    "#### if, else, pass"
   ]
  },
  {
   "cell_type": "code",
   "execution_count": 2,
   "metadata": {},
   "outputs": [
    {
     "name": "stdout",
     "output_type": "stream",
     "text": [
      "Today not a sunny day\n"
     ]
    }
   ],
   "source": [
    "sunny_today = False\n",
    "if sunny_today:\n",
    "    print(\"Today is a sunny day\")\n",
    "else:\n",
    "    print(\"Today not a sunny day\")"
   ]
  },
  {
   "cell_type": "markdown",
   "metadata": {},
   "source": [
    "##### .isalnum(), .istitlle(), .isdigit(), .islower(), .startswith()"
   ]
  },
  {
   "cell_type": "code",
   "execution_count": 5,
   "metadata": {},
   "outputs": [
    {
     "name": "stdout",
     "output_type": "stream",
     "text": [
      "only[1] welcome is lower\n"
     ]
    }
   ],
   "source": [
    "test_string_1 = \"welcome\"\n",
    "test_string_2 = \"I have $3\"\n",
    "if test_string_1.islower():\n",
    "    if test_string_2.islower():\n",
    "        print(\"[1]\",test_string_1,\"\\n[2]\",test_string_2,\"are both lower\")\n",
    "    else:\n",
    "        print(\"only[1]\",test_string_1,\"is lower\")\n",
    "elif test_string_1.islower():\n",
    "    print(\"only[2]\",test_string_2,\"is lower\")\n",
    "else:\n",
    "    print(\"both string are not lower\")"
   ]
  },
  {
   "cell_type": "code",
   "execution_count": 6,
   "metadata": {},
   "outputs": [],
   "source": [
    "test_string_1 = \"welcome\"\n",
    "test_string_2 = \"I have $3\"\n",
    "test_string_3 = \"With a function it's efficient to repeat code\""
   ]
  },
  {
   "cell_type": "code",
   "execution_count": 10,
   "metadata": {},
   "outputs": [
    {
     "name": "stdout",
     "output_type": "stream",
     "text": [
      "do string [1]' welcome ' starts with 'w'? Yes\n",
      "do string [2]' I have $3 ' starts with 'w'? No\n",
      "do string [3]' With a function it's efficient to repeat code ' starts with 'w'? Yes\n"
     ]
    }
   ],
   "source": [
    "def w_start_test(str):\n",
    "    if str.lower().startswith('w'):\n",
    "        return \"Yes\"\n",
    "    else:\n",
    "        return \"No\"\n",
    "print(\"do string [1]'\",test_string_1,\"' starts with 'w'?\",w_start_test(test_string_1))\n",
    "print(\"do string [2]'\",test_string_2,\"' starts with 'w'?\",w_start_test(test_string_2))\n",
    "print(\"do string [3]'\",test_string_3,\"' starts with 'w'?\",w_start_test(test_string_3))\n"
   ]
  },
  {
   "cell_type": "markdown",
   "metadata": {},
   "source": [
    "### Comparison operators"
   ]
  },
  {
   "cell_type": "markdown",
   "metadata": {},
   "source": [
    "#### >,<, >= , <= , == , !="
   ]
  },
  {
   "cell_type": "code",
   "execution_count": 1,
   "metadata": {},
   "outputs": [
    {
     "name": "stdout",
     "output_type": "stream",
     "text": [
      "False\n"
     ]
    }
   ],
   "source": [
    "x = 9 + 4\n",
    "if x == 9:\n",
    "    print(\"True\")\n",
    "else:\n",
    "    print(\"False\")"
   ]
  },
  {
   "cell_type": "code",
   "execution_count": 2,
   "metadata": {},
   "outputs": [
    {
     "name": "stdout",
     "output_type": "stream",
     "text": [
      "true\n"
     ]
    }
   ],
   "source": [
    "if 3 + 3 > 2:\n",
    "    print(\"true\")\n",
    "else:\n",
    "    print(\"False\")"
   ]
  },
  {
   "cell_type": "markdown",
   "metadata": {},
   "source": [
    "## if Comparison"
   ]
  },
  {
   "cell_type": "code",
   "execution_count": 8,
   "metadata": {},
   "outputs": [
    {
     "name": "stdout",
     "output_type": "stream",
     "text": [
      "y greater than or equal to x + x is True\n"
     ]
    }
   ],
   "source": [
    "x =3\n",
    "y = x + 8\n",
    "print(\"y greater than or equal to x + x is\",y > x + x)\n",
    "\n"
   ]
  },
  {
   "cell_type": "markdown",
   "metadata": {},
   "source": [
    "## String Comparison"
   ]
  },
  {
   "cell_type": "code",
   "execution_count": 13,
   "metadata": {},
   "outputs": [],
   "source": [
    "msg = \"Hello\""
   ]
  },
  {
   "cell_type": "code",
   "execution_count": 14,
   "metadata": {},
   "outputs": [
    {
     "name": "stdout",
     "output_type": "stream",
     "text": [
      "Hello!\n"
     ]
    }
   ],
   "source": [
    "if msg == \"Hello\":\n",
    "    print(\"Hello!\")\n",
    "else:\n",
    "    pass"
   ]
  },
  {
   "cell_type": "code",
   "execution_count": 16,
   "metadata": {},
   "outputs": [
    {
     "name": "stdout",
     "output_type": "stream",
     "text": [
      "Say'Hello':Hello\n",
      "msg is equal to greeting\n"
     ]
    }
   ],
   "source": [
    "greeting = \"Hello\"\n",
    "msg = input(\"Say'Hello':\")\n",
    "if msg == greeting:\n",
    "    print(\"msg is equal to greeting\")\n",
    "else:\n",
    "    pass"
   ]
  },
  {
   "cell_type": "code",
   "execution_count": 17,
   "metadata": {},
   "outputs": [
    {
     "name": "stdout",
     "output_type": "stream",
     "text": [
      "What is 8 + 13 ?:20\n",
      "WRONG ANSWER\n"
     ]
    }
   ],
   "source": [
    "answer = input(\"What is 8 + 13 ?:\")\n",
    "if answer == \"21\":\n",
    "    print(\"CORRECT ANSWER\")\n",
    "else:\n",
    "    print(\"WRONG ANSWER\")"
   ]
  },
  {
   "cell_type": "code",
   "execution_count": 21,
   "metadata": {},
   "outputs": [
    {
     "name": "stdout",
     "output_type": "stream",
     "text": [
      "Enter two single digit number whose sum is greater than 10\n",
      "3\n",
      "4\n",
      "Is sum of both digit is greater than 10?: False\n"
     ]
    }
   ],
   "source": [
    "def  tf_quiz(x, y):\n",
    "    if int(x) + int(y) > 10:\n",
    "        return \"True\"\n",
    "    else:\n",
    "        return \"False\"\n",
    "    \n",
    "print(\"Enter two single digit number whose sum is greater than 10\")\n",
    "a = input()\n",
    "b = input()\n",
    "print(\"Is sum of both digit is greater than 10?:\", tf_quiz(a, b))"
   ]
  },
  {
   "cell_type": "code",
   "execution_count": 23,
   "metadata": {},
   "outputs": [
    {
     "name": "stdout",
     "output_type": "stream",
     "text": [
      "Should save your notebook?:save\n",
      "Is input to save notebook?: True\n"
     ]
    }
   ],
   "source": [
    "def tf_quiz(x):\n",
    "    if x.lower() in \"save notebook\":\n",
    "        return \"True\"\n",
    "    else:\n",
    "        return \"False\"\n",
    "question = input(\"Should save your notebook?:\")\n",
    "print(\"Is input to save notebook?:\", tf_quiz(question))"
   ]
  },
  {
   "cell_type": "code",
   "execution_count": 27,
   "metadata": {},
   "outputs": [
    {
     "name": "stdout",
     "output_type": "stream",
     "text": [
      "True\n"
     ]
    }
   ],
   "source": [
    "if \"a\" > \"A\":\n",
    "    print(\"True\")"
   ]
  },
  {
   "cell_type": "code",
   "execution_count": 28,
   "metadata": {},
   "outputs": [
    {
     "name": "stdout",
     "output_type": "stream",
     "text": [
      "Start the week!\n"
     ]
    }
   ],
   "source": [
    " day = \"monday\"\n",
    "\n",
    "if day.capitalize() == \"Monday\":\n",
    "    print(\"Start the week!\")\n",
    "else:\n",
    "    pass"
   ]
  },
  {
   "cell_type": "markdown",
   "metadata": {},
   "source": [
    "## elif and Casting"
   ]
  },
  {
   "cell_type": "code",
   "execution_count": 33,
   "metadata": {},
   "outputs": [
    {
     "name": "stdout",
     "output_type": "stream",
     "text": [
      "enter size in (S,M,L):X\n",
      "NOT AVAILABLE\n"
     ]
    }
   ],
   "source": [
    "input_size = input(\"enter size in (S,M,L):\").lower()\n",
    "if input_size == 's':\n",
    "    print(\"Price is $6\")\n",
    "elif input_size == 'm': \n",
    "    print(\"Price is $7\")\n",
    "elif input_size == 'l':\n",
    "    print(\"Price is $8\")\n",
    "else:\n",
    "    print(\"NOT AVAILABLE\")"
   ]
  },
  {
   "cell_type": "markdown",
   "metadata": {},
   "source": [
    "## Casting"
   ]
  },
  {
   "cell_type": "markdown",
   "metadata": {},
   "source": [
    "### int(), str(), float()"
   ]
  },
  {
   "cell_type": "code",
   "execution_count": 35,
   "metadata": {},
   "outputs": [
    {
     "name": "stdout",
     "output_type": "stream",
     "text": [
      "36\n"
     ]
    }
   ],
   "source": [
    "str_num_1 = \"11\"\n",
    "str_num_2 = \"15\"\n",
    "str_num_3 = 10\n",
    "test = int(str_num_1) + int(str_num_2) + str_num_3\n",
    "print(test)"
   ]
  },
  {
   "cell_type": "code",
   "execution_count": 44,
   "metadata": {},
   "outputs": [
    {
     "name": "stdout",
     "output_type": "stream",
     "text": [
      "66\n"
     ]
    }
   ],
   "source": [
    "str_integer = \"34\"\n",
    "str_integer\n",
    "int_number = 32\n",
    "number_total = int_number + int(str_integer)\n",
    "print(number_total)"
   ]
  },
  {
   "cell_type": "code",
   "execution_count": 48,
   "metadata": {},
   "outputs": [
    {
     "name": "stdout",
     "output_type": "stream",
     "text": [
      "enter value for x:3\n",
      "enter value for y:t\n",
      "Wrong input\n"
     ]
    }
   ],
   "source": [
    "x = input(\"enter value for x:\")\n",
    "y = input(\"enter value for y:\")\n",
    "if x.isdigit() and y.isdigit():\n",
    "    print(int(x) + int(y))\n",
    "else:\n",
    "    print(\"Wrong input\")"
   ]
  },
  {
   "cell_type": "markdown",
   "metadata": {},
   "source": [
    "## Math operator"
   ]
  },
  {
   "cell_type": "markdown",
   "metadata": {},
   "source": [
    "### addition, substraction, multiplication, division"
   ]
  },
  {
   "cell_type": "code",
   "execution_count": 49,
   "metadata": {},
   "outputs": [
    {
     "name": "stdout",
     "output_type": "stream",
     "text": [
      "28\n"
     ]
    }
   ],
   "source": [
    "print(43 - 15)"
   ]
  },
  {
   "cell_type": "code",
   "execution_count": 50,
   "metadata": {},
   "outputs": [
    {
     "name": "stdout",
     "output_type": "stream",
     "text": [
      "645\n"
     ]
    }
   ],
   "source": [
    "print(15 * 43)"
   ]
  },
  {
   "cell_type": "code",
   "execution_count": 51,
   "metadata": {},
   "outputs": [
    {
     "name": "stdout",
     "output_type": "stream",
     "text": [
      "43.0\n"
     ]
    }
   ],
   "source": [
    "print(516 / 12)"
   ]
  },
  {
   "cell_type": "code",
   "execution_count": 52,
   "metadata": {},
   "outputs": [
    {
     "name": "stdout",
     "output_type": "stream",
     "text": [
      "42.0\n"
     ]
    }
   ],
   "source": [
    "print(21/0.5)"
   ]
  },
  {
   "cell_type": "code",
   "execution_count": 53,
   "metadata": {},
   "outputs": [
    {
     "name": "stdout",
     "output_type": "stream",
     "text": [
      "150\n"
     ]
    }
   ],
   "source": [
    "print(111 + 84 - 45)"
   ]
  },
  {
   "cell_type": "code",
   "execution_count": 56,
   "metadata": {},
   "outputs": [
    {
     "name": "stdout",
     "output_type": "stream",
     "text": [
      "Enter two single digit number whose sum is greater than 10\n",
      "3\n",
      "2\n",
      "Multiplication of both digits: 6\n"
     ]
    }
   ],
   "source": [
    "def multiply(x,y):\n",
    "    return int(x) * int(y)\n",
    "print(\"Enter two single digit number whose sum is greater than 10\")\n",
    "a = input()\n",
    "b = input()\n",
    "print(\"Multiplication of both digits:\", multiply(a, b))"
   ]
  },
  {
   "cell_type": "code",
   "execution_count": 69,
   "metadata": {},
   "outputs": [
    {
     "name": "stdout",
     "output_type": "stream",
     "text": [
      "Enter two single digit number whose sum is greater than 10\n",
      "4\n",
      "3\n",
      "/\n",
      "1.3333333333333333\n"
     ]
    }
   ],
   "source": [
    "def improved_multiply(x,y,c):\n",
    "    if c == '/':\n",
    "        return str(x / y)\n",
    "    elif c == '':\n",
    "        return str(y*x)\n",
    "    else:\n",
    "        return \"invalid operator\"\n",
    "    \n",
    "print(\"Enter two single digit number whose sum is greater than 10\")\n",
    "a = input()\n",
    "b = input()\n",
    "c = input()\n",
    "print(improved_multiply(int(a),int(b),c))"
   ]
  },
  {
   "cell_type": "code",
   "execution_count": 70,
   "metadata": {
    "scrolled": true
   },
   "outputs": [
    {
     "name": "stdout",
     "output_type": "stream",
     "text": [
      "enter name: Manik\n",
      "Manik please wait for students with names staring with 'F' and 'G' to go first today.\n"
     ]
    }
   ],
   "source": [
    "student_name = input(\"enter name: \").capitalize()\n",
    "if student_name.startswith(\"F\"):\n",
    "    print(student_name,\"Congratulations, names starting with 'F' get to go first today!\")\n",
    "elif student_name.startswith(\"G\"):\n",
    "    print(student_name,\"Congratulations, names starting with 'G' get to go second today!\")\n",
    "else:\n",
    "    print(student_name, \"please wait for students with names staring with 'F' and 'G' to go first today.\")\n"
   ]
  },
  {
   "cell_type": "markdown",
   "metadata": {},
   "source": [
    "# PRACTICE"
   ]
  },
  {
   "cell_type": "code",
   "execution_count": 75,
   "metadata": {},
   "outputs": [
    {
     "name": "stdout",
     "output_type": "stream",
     "text": [
      "enter the age:23\n",
      "after 10 years your age will be 33\n"
     ]
    }
   ],
   "source": [
    "age = int(input(\"enter the age:\"))\n",
    "if age >= 12:\n",
    "    print(\"after 10 years your age will be\", age + 10)\n",
    "else:\n",
    "    print(\"it is good to be of \",age)"
   ]
  },
  {
   "cell_type": "code",
   "execution_count": 77,
   "metadata": {},
   "outputs": [
    {
     "name": "stdout",
     "output_type": "stream",
     "text": [
      "Enter digit:w\n",
      "NOT A DIGIT\n"
     ]
    }
   ],
   "source": [
    "number = input(\"Enter digit:\")\n",
    "if number.isdigit():\n",
    "    if int(number) > 100:\n",
    "        print(\"TRUE\")\n",
    "    else:\n",
    "        print(\"FALSE\")\n",
    "else:\n",
    "    print(\"NOT A DIGIT\")"
   ]
  },
  {
   "cell_type": "code",
   "execution_count": 79,
   "metadata": {},
   "outputs": [
    {
     "name": "stdout",
     "output_type": "stream",
     "text": [
      "Enter guess alphabet:G\n",
      "Your guess is  Right\n"
     ]
    }
   ],
   "source": [
    "letter = 'g'  \n",
    "def check_guess(x,g):\n",
    "    if x .lower()== g.lower():\n",
    "        return \"True\"\n",
    "    else:\n",
    "        return \"wrong\"\n",
    "guess = input(\"Enter guess alphabet:\")\n",
    "print(\"Your guess is \",check_guess(guess,letter))"
   ]
  },
  {
   "cell_type": "code",
   "execution_count": 84,
   "metadata": {},
   "outputs": [
    {
     "name": "stdout",
     "output_type": "stream",
     "text": [
      "enter the letter to guess:a\n",
      "Wrong Guess\n",
      "enter the letter to guess:s\n",
      "Wrong Guess\n",
      "enter the letter to guess:d\n",
      "Wrong Guess\n",
      "false\n"
     ]
    }
   ],
   "source": [
    "def letter_guess(x,g):\n",
    "    if x.lower()== g.lower():\n",
    "        print(\"right guess\")\n",
    "        return \"true\"\n",
    "    else:\n",
    "        print(\"Wrong Guess\")\n",
    "        return \"false\"\n",
    "letter = 'm'\n",
    "if letter_guess(input(\"enter the letter to guess:\"),letter) == \"false\":\n",
    "    if letter_guess(input(\"enter the letter to guess:\"),letter) == \"false\":\n",
    "        if letter_guess(input(\"enter the letter to guess:\"),letter) == \"false\":\n",
    "            print(\"false\")\n",
    "        else:\n",
    "            pass\n",
    "    else:\n",
    "        pass\n",
    "else:\n",
    "    pass\n",
    "    "
   ]
  },
  {
   "cell_type": "code",
   "execution_count": 86,
   "metadata": {},
   "outputs": [
    {
     "name": "stdout",
     "output_type": "stream",
     "text": [
      "Tell something about your pet:I have a dog\n",
      "Ah, a dog\n",
      "Thanking you for your story.\n"
     ]
    }
   ],
   "source": [
    "about_pet = input(\"Tell something about your pet:\").lower()\n",
    "if \"dog\" in about_pet:\n",
    "    print(\"Ah, a dog\")\n",
    "elif \"cat\" in about_pet:\n",
    "    print(\"Ah, a cat\")\n",
    "print(\"Thanking you for your story.\")"
   ]
  },
  {
   "cell_type": "code",
   "execution_count": 93,
   "metadata": {},
   "outputs": [
    {
     "name": "stdout",
     "output_type": "stream",
     "text": [
      "Enter the first color from rainbow ROYGBIV:b\n",
      "Blue\n"
     ]
    }
   ],
   "source": [
    "def rainbow_color(color):\n",
    "    if color.lower() == 'r':\n",
    "        return \"Red\"\n",
    "    elif color.lower() == 'o':\n",
    "        return \"Orange\"\n",
    "    elif color.lower() == 'y':\n",
    "        return \"Yellow\"\n",
    "    elif color.lower() == 'g':\n",
    "        return \"Green\"\n",
    "    elif color.lower() == 'b':\n",
    "        return \"Blue\"\n",
    "    elif color.lower() == 'i':\n",
    "        return \"Indigo\"\n",
    "    elif color.lower() == 'v':\n",
    "        return \"Violet\"\n",
    "    else:\n",
    "        return \"no match\"\n",
    "    \n",
    "color = input(\"Enter the first color from rainbow ROYGBIV:\")\n",
    "print(rainbow_color(color))"
   ]
  },
  {
   "cell_type": "code",
   "execution_count": 100,
   "metadata": {},
   "outputs": [
    {
     "name": "stdout",
     "output_type": "stream",
     "text": [
      "34\n",
      "14\n"
     ]
    }
   ],
   "source": [
    "def  age_20(x):\n",
    "    return x - 20\n",
    "x = int(input())\n",
    "if x < 20:\n",
    "    print(\"Invalid input\")\n",
    "else:\n",
    "    print(age_20(x))\n"
   ]
  },
  {
   "cell_type": "code",
   "execution_count": 106,
   "metadata": {},
   "outputs": [
    {
     "name": "stdout",
     "output_type": "stream",
     "text": [
      "enter the input:$\n",
      "WRONG OPERATION\n"
     ]
    }
   ],
   "source": [
    "a = input(\"enter the input:\")\n",
    "if a.isdigit():\n",
    "    print(age_20(int(a)))\n",
    "elif a.isalpha():\n",
    "    print(rainbow_color(a))\n",
    "else:\n",
    "    print(\"WRONG OPERATION\")"
   ]
  },
  {
   "cell_type": "code",
   "execution_count": 115,
   "metadata": {},
   "outputs": [
    {
     "name": "stdout",
     "output_type": "stream",
     "text": [
      "8\n",
      "2\n",
      "10\n",
      "the answer is:16\n",
      "5.0\n",
      "6\n",
      "4\n"
     ]
    }
   ],
   "source": [
    "x = int(input())\n",
    "y = int(input())\n",
    "print(x + y)\n",
    "answer = 'the answer is:' + str(x * y)\n",
    "print(answer)\n",
    "print((x + y)/2)\n",
    "if x > y:\n",
    "    print(x - y)\n",
    "    \n",
    "else:\n",
    "    print(y - x)\n",
    "    print(int(y/x))\n",
    "    \n",
    "if x !=0 and y!=0:\n",
    "    if x > y:\n",
    "        print(int(x/y))\n",
    "    else:\n",
    "        print(int(y/x))\n",
    "\n"
   ]
  },
  {
   "cell_type": "markdown",
   "metadata": {},
   "source": [
    "## Program: Chesse Order"
   ]
  },
  {
   "cell_type": "code",
   "execution_count": 120,
   "metadata": {},
   "outputs": [
    {
     "name": "stdout",
     "output_type": "stream",
     "text": [
      "Enter cheese order weight (numeric value):2\n",
      "2.0 costs $ 15.98\n"
     ]
    }
   ],
   "source": [
    "minimum_weight = 1\n",
    "maximum_weight = 100\n",
    "order_weight = float(input(\"Enter cheese order weight (numeric value):\"))\n",
    "if order_weight < minimum_weight:\n",
    "    print(order_weight,\"is below minimum order amount\")\n",
    "elif order_weight > maximum_weight:\n",
    "    print(order_weight,\"is more than currently available stock\")\n",
    "else:\n",
    "    print(order_weight, \"costs $\",15.98/2 * order_weight)"
   ]
  }
 ],
 "metadata": {
  "kernelspec": {
   "display_name": "Python 3",
   "language": "python",
   "name": "python3"
  },
  "language_info": {
   "codemirror_mode": {
    "name": "ipython",
    "version": 3
   },
   "file_extension": ".py",
   "mimetype": "text/x-python",
   "name": "python",
   "nbconvert_exporter": "python",
   "pygments_lexer": "ipython3",
   "version": "3.6.4"
  }
 },
 "nbformat": 4,
 "nbformat_minor": 2
}
