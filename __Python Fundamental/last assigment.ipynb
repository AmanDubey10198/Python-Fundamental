{
 "cells": [
  {
   "cell_type": "code",
   "execution_count": 4,
   "metadata": {},
   "outputs": [
    {
     "name": "stdout",
     "output_type": "stream",
     "text": [
      "Choose Report Type(\"A\" or \"T\"):T\n",
      "Input an integer to add to the total or \"Q\" to quit\n",
      "Enter an integer or \"Q\":5\n",
      "Enter an integer or \"Q\":7\n",
      "Enter an integer or \"Q\":Quit\n",
      "\n",
      "Total\n",
      " 12\n"
     ]
    }
   ],
   "source": [
    "def adding_report(str1 = 'T'):\n",
    "    items = ''\n",
    "    total = 0\n",
    "    print('Input an integer to add to the total or \"Q\" to quit')\n",
    "    x = input('Enter an integer or \"Q\":')\n",
    "    while x.lower().startswith('q') == False:\n",
    "        if x.isdigit():\n",
    "            items += \"\\n\" + x\n",
    "            total += int(x)\n",
    "        else:\n",
    "            print(x,\" is invalid input\")\n",
    "        x = input('Enter an integer or \"Q\":')\n",
    "    if str1 == \"A\":\n",
    "        print(\"Items\",items)\n",
    "        print(\"Total\\n\",total)\n",
    "    elif str1 == \"T\":\n",
    "        print(\"\\nTotal\\n\",total)\n",
    "\n",
    "srt1 = input('Choose Report Type(\"A\" or \"T\"):')\n",
    "while srt1 != \"A\" and srt1 != \"T\":\n",
    "    print(srt1,\" is invalid input\")\n",
    "    srt1 = input('Choose Report Type(\"A\" or \"T\"):')\n",
    "adding_report(srt1)"
   ]
  },
  {
   "cell_type": "code",
   "execution_count": null,
   "metadata": {},
   "outputs": [],
   "source": []
  }
 ],
 "metadata": {
  "kernelspec": {
   "display_name": "Python 3",
   "language": "python",
   "name": "python3"
  },
  "language_info": {
   "codemirror_mode": {
    "name": "ipython",
    "version": 3
   },
   "file_extension": ".py",
   "mimetype": "text/x-python",
   "name": "python",
   "nbconvert_exporter": "python",
   "pygments_lexer": "ipython3",
   "version": "3.6.4"
  }
 },
 "nbformat": 4,
 "nbformat_minor": 2
}
